{
  "nbformat": 4,
  "nbformat_minor": 0,
  "metadata": {
    "colab": {
      "provenance": []
    },
    "kernelspec": {
      "name": "python3",
      "display_name": "Python 3"
    },
    "language_info": {
      "name": "python"
    }
  },
  "cells": [
    {
      "cell_type": "code",
      "execution_count": 4,
      "metadata": {
        "colab": {
          "base_uri": "https://localhost:8080/"
        },
        "id": "OrbWBYklCgfX",
        "outputId": "10e378ca-54a8-416c-fab9-5f38a97eafb2"
      },
      "outputs": [
        {
          "output_type": "stream",
          "name": "stdout",
          "text": [
            "330.0\n"
          ]
        }
      ],
      "source": [
        "tax = 1.1\n",
        "\n",
        "def total():\n",
        "    price1 = 100\n",
        "    price2 = 200\n",
        "    return price1 + price2\n",
        "\n",
        "print (total() * tax)\n"
      ]
    }
  ]
}