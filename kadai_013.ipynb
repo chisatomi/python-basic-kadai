{
  "nbformat": 4,
  "nbformat_minor": 0,
  "metadata": {
    "colab": {
      "provenance": []
    },
    "kernelspec": {
      "name": "python3",
      "display_name": "Python 3"
    },
    "language_info": {
      "name": "python"
    }
  },
  "cells": [
    {
      "cell_type": "code",
      "execution_count": 10,
      "metadata": {
        "colab": {
          "base_uri": "https://localhost:8080/"
        },
        "id": "lP0LoxEXSsnT",
        "outputId": "39ebc8c9-c967-4c16-c335-ef91ca7d6725"
      },
      "outputs": [
        {
          "output_type": "stream",
          "name": "stdout",
          "text": [
            "110.0\n"
          ]
        }
      ],
      "source": [
        "def calculate_total(price,tax):\n",
        "  total = price + (price * tax)\n",
        "  return total\n",
        "\n",
        "price = 100\n",
        "tax = 0.1\n",
        "\n",
        "total = calculate_total(price,tax)\n",
        "print(total)"
      ]
    }
  ]
}